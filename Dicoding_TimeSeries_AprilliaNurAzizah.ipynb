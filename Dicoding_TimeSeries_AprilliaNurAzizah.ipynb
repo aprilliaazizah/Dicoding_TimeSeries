{
  "nbformat": 4,
  "nbformat_minor": 0,
  "metadata": {
    "accelerator": "GPU",
    "colab": {
      "name": "Dicoding_TimeSeries_AprilliaNurAzizah.ipynb",
      "provenance": [],
      "collapsed_sections": []
    },
    "kernelspec": {
      "display_name": "Python 3",
      "name": "python3"
    },
    "language_info": {
      "name": "python"
    }
  },
  "cells": [
    {
      "cell_type": "markdown",
      "metadata": {
        "id": "PTkCgZcRfSFT"
      },
      "source": [
        "###Nama      : Aprillia Nur Azizah \n",
        "###Unsername : aprillianuraz\n",
        "###Email     : aprilliaazizah3@gmail.com"
      ]
    },
    {
      "cell_type": "code",
      "metadata": {
        "colab": {
          "base_uri": "https://localhost:8080/"
        },
        "id": "ikvHPpbvFrsM",
        "outputId": "aaf6e1d8-617b-4a60-d85e-2ae0f4af161b"
      },
      "source": [
        "from google.colab import drive\n",
        "drive.mount('/content/drive')"
      ],
      "execution_count": 193,
      "outputs": [
        {
          "output_type": "stream",
          "text": [
            "Drive already mounted at /content/drive; to attempt to forcibly remount, call drive.mount(\"/content/drive\", force_remount=True).\n"
          ],
          "name": "stdout"
        }
      ]
    },
    {
      "cell_type": "code",
      "metadata": {
        "id": "dwSsJ1zkFv8y"
      },
      "source": [
        "import numpy as np\n",
        "import pandas as pd\n",
        "from keras.layers import Dense, LSTM\n",
        "import matplotlib.pyplot as plt\n",
        "import tensorflow as tf\n",
        "from sklearn.model_selection import train_test_split\n",
        "from sklearn.preprocessing import RobustScaler\n",
        "from sklearn import preprocessing"
      ],
      "execution_count": 194,
      "outputs": []
    },
    {
      "cell_type": "code",
      "metadata": {
        "colab": {
          "base_uri": "https://localhost:8080/",
          "height": 237
        },
        "id": "iSbi91S4GBG7",
        "outputId": "d7beffe0-9d9b-42ae-ff7b-b9df77464bdd"
      },
      "source": [
        "df = pd.read_csv('/content/drive/MyDrive/Dicoding/Dataset/DailyDelhiClimate.csv', parse_dates=['date'], index_col='date')\n",
        "df.head()"
      ],
      "execution_count": 195,
      "outputs": [
        {
          "output_type": "execute_result",
          "data": {
            "text/html": [
              "<div>\n",
              "<style scoped>\n",
              "    .dataframe tbody tr th:only-of-type {\n",
              "        vertical-align: middle;\n",
              "    }\n",
              "\n",
              "    .dataframe tbody tr th {\n",
              "        vertical-align: top;\n",
              "    }\n",
              "\n",
              "    .dataframe thead th {\n",
              "        text-align: right;\n",
              "    }\n",
              "</style>\n",
              "<table border=\"1\" class=\"dataframe\">\n",
              "  <thead>\n",
              "    <tr style=\"text-align: right;\">\n",
              "      <th></th>\n",
              "      <th>meantemp</th>\n",
              "      <th>humidity</th>\n",
              "      <th>wind_speed</th>\n",
              "      <th>meanpressure</th>\n",
              "    </tr>\n",
              "    <tr>\n",
              "      <th>date</th>\n",
              "      <th></th>\n",
              "      <th></th>\n",
              "      <th></th>\n",
              "      <th></th>\n",
              "    </tr>\n",
              "  </thead>\n",
              "  <tbody>\n",
              "    <tr>\n",
              "      <th>2013-01-01</th>\n",
              "      <td>10.000000</td>\n",
              "      <td>84.500000</td>\n",
              "      <td>0.000000</td>\n",
              "      <td>1015.666667</td>\n",
              "    </tr>\n",
              "    <tr>\n",
              "      <th>2013-01-02</th>\n",
              "      <td>7.400000</td>\n",
              "      <td>92.000000</td>\n",
              "      <td>2.980000</td>\n",
              "      <td>1017.800000</td>\n",
              "    </tr>\n",
              "    <tr>\n",
              "      <th>2013-01-03</th>\n",
              "      <td>7.166667</td>\n",
              "      <td>87.000000</td>\n",
              "      <td>4.633333</td>\n",
              "      <td>1018.666667</td>\n",
              "    </tr>\n",
              "    <tr>\n",
              "      <th>2013-01-04</th>\n",
              "      <td>8.666667</td>\n",
              "      <td>71.333333</td>\n",
              "      <td>1.233333</td>\n",
              "      <td>1017.166667</td>\n",
              "    </tr>\n",
              "    <tr>\n",
              "      <th>2013-01-05</th>\n",
              "      <td>6.000000</td>\n",
              "      <td>86.833333</td>\n",
              "      <td>3.700000</td>\n",
              "      <td>1016.500000</td>\n",
              "    </tr>\n",
              "  </tbody>\n",
              "</table>\n",
              "</div>"
            ],
            "text/plain": [
              "             meantemp   humidity  wind_speed  meanpressure\n",
              "date                                                      \n",
              "2013-01-01  10.000000  84.500000    0.000000   1015.666667\n",
              "2013-01-02   7.400000  92.000000    2.980000   1017.800000\n",
              "2013-01-03   7.166667  87.000000    4.633333   1018.666667\n",
              "2013-01-04   8.666667  71.333333    1.233333   1017.166667\n",
              "2013-01-05   6.000000  86.833333    3.700000   1016.500000"
            ]
          },
          "metadata": {},
          "execution_count": 195
        }
      ]
    },
    {
      "cell_type": "code",
      "metadata": {
        "id": "gEiiyYqPMJ2m",
        "colab": {
          "base_uri": "https://localhost:8080/"
        },
        "outputId": "e890873f-4359-4aff-a1f6-9e8f0e051cd3"
      },
      "source": [
        "df.info()"
      ],
      "execution_count": 196,
      "outputs": [
        {
          "output_type": "stream",
          "text": [
            "<class 'pandas.core.frame.DataFrame'>\n",
            "DatetimeIndex: 1462 entries, 2013-01-01 to 2017-01-01\n",
            "Data columns (total 4 columns):\n",
            " #   Column        Non-Null Count  Dtype  \n",
            "---  ------        --------------  -----  \n",
            " 0   meantemp      1462 non-null   float64\n",
            " 1   humidity      1462 non-null   float64\n",
            " 2   wind_speed    1462 non-null   float64\n",
            " 3   meanpressure  1462 non-null   float64\n",
            "dtypes: float64(4)\n",
            "memory usage: 57.1 KB\n"
          ],
          "name": "stdout"
        }
      ]
    },
    {
      "cell_type": "code",
      "metadata": {
        "id": "jNWWnWQAGzqn",
        "colab": {
          "base_uri": "https://localhost:8080/"
        },
        "outputId": "88e7e465-4c8e-4406-f965-c4eb79870c24"
      },
      "source": [
        "#Cek Missing Value\n",
        "df.isnull().sum()"
      ],
      "execution_count": 197,
      "outputs": [
        {
          "output_type": "execute_result",
          "data": {
            "text/plain": [
              "meantemp        0\n",
              "humidity        0\n",
              "wind_speed      0\n",
              "meanpressure    0\n",
              "dtype: int64"
            ]
          },
          "metadata": {},
          "execution_count": 197
        }
      ]
    },
    {
      "cell_type": "code",
      "metadata": {
        "id": "XEaG0pycdWv6",
        "colab": {
          "base_uri": "https://localhost:8080/",
          "height": 237
        },
        "outputId": "98e89ce0-637f-4658-d84b-927864619be9"
      },
      "source": [
        "df['hour'] = df.index.hour\n",
        "df['day_of_week'] = df.index.dayofweek\n",
        "df['day_of_month'] = df.index.day\n",
        "df['month'] = df.index.month\n",
        "df.head()"
      ],
      "execution_count": 198,
      "outputs": [
        {
          "output_type": "execute_result",
          "data": {
            "text/html": [
              "<div>\n",
              "<style scoped>\n",
              "    .dataframe tbody tr th:only-of-type {\n",
              "        vertical-align: middle;\n",
              "    }\n",
              "\n",
              "    .dataframe tbody tr th {\n",
              "        vertical-align: top;\n",
              "    }\n",
              "\n",
              "    .dataframe thead th {\n",
              "        text-align: right;\n",
              "    }\n",
              "</style>\n",
              "<table border=\"1\" class=\"dataframe\">\n",
              "  <thead>\n",
              "    <tr style=\"text-align: right;\">\n",
              "      <th></th>\n",
              "      <th>meantemp</th>\n",
              "      <th>humidity</th>\n",
              "      <th>wind_speed</th>\n",
              "      <th>meanpressure</th>\n",
              "      <th>hour</th>\n",
              "      <th>day_of_week</th>\n",
              "      <th>day_of_month</th>\n",
              "      <th>month</th>\n",
              "    </tr>\n",
              "    <tr>\n",
              "      <th>date</th>\n",
              "      <th></th>\n",
              "      <th></th>\n",
              "      <th></th>\n",
              "      <th></th>\n",
              "      <th></th>\n",
              "      <th></th>\n",
              "      <th></th>\n",
              "      <th></th>\n",
              "    </tr>\n",
              "  </thead>\n",
              "  <tbody>\n",
              "    <tr>\n",
              "      <th>2013-01-01</th>\n",
              "      <td>10.000000</td>\n",
              "      <td>84.500000</td>\n",
              "      <td>0.000000</td>\n",
              "      <td>1015.666667</td>\n",
              "      <td>0</td>\n",
              "      <td>1</td>\n",
              "      <td>1</td>\n",
              "      <td>1</td>\n",
              "    </tr>\n",
              "    <tr>\n",
              "      <th>2013-01-02</th>\n",
              "      <td>7.400000</td>\n",
              "      <td>92.000000</td>\n",
              "      <td>2.980000</td>\n",
              "      <td>1017.800000</td>\n",
              "      <td>0</td>\n",
              "      <td>2</td>\n",
              "      <td>2</td>\n",
              "      <td>1</td>\n",
              "    </tr>\n",
              "    <tr>\n",
              "      <th>2013-01-03</th>\n",
              "      <td>7.166667</td>\n",
              "      <td>87.000000</td>\n",
              "      <td>4.633333</td>\n",
              "      <td>1018.666667</td>\n",
              "      <td>0</td>\n",
              "      <td>3</td>\n",
              "      <td>3</td>\n",
              "      <td>1</td>\n",
              "    </tr>\n",
              "    <tr>\n",
              "      <th>2013-01-04</th>\n",
              "      <td>8.666667</td>\n",
              "      <td>71.333333</td>\n",
              "      <td>1.233333</td>\n",
              "      <td>1017.166667</td>\n",
              "      <td>0</td>\n",
              "      <td>4</td>\n",
              "      <td>4</td>\n",
              "      <td>1</td>\n",
              "    </tr>\n",
              "    <tr>\n",
              "      <th>2013-01-05</th>\n",
              "      <td>6.000000</td>\n",
              "      <td>86.833333</td>\n",
              "      <td>3.700000</td>\n",
              "      <td>1016.500000</td>\n",
              "      <td>0</td>\n",
              "      <td>5</td>\n",
              "      <td>5</td>\n",
              "      <td>1</td>\n",
              "    </tr>\n",
              "  </tbody>\n",
              "</table>\n",
              "</div>"
            ],
            "text/plain": [
              "             meantemp   humidity  wind_speed  ...  day_of_week  day_of_month  month\n",
              "date                                          ...                                  \n",
              "2013-01-01  10.000000  84.500000    0.000000  ...            1             1      1\n",
              "2013-01-02   7.400000  92.000000    2.980000  ...            2             2      1\n",
              "2013-01-03   7.166667  87.000000    4.633333  ...            3             3      1\n",
              "2013-01-04   8.666667  71.333333    1.233333  ...            4             4      1\n",
              "2013-01-05   6.000000  86.833333    3.700000  ...            5             5      1\n",
              "\n",
              "[5 rows x 8 columns]"
            ]
          },
          "metadata": {},
          "execution_count": 198
        }
      ]
    },
    {
      "cell_type": "code",
      "metadata": {
        "id": "i0HhlyXjdlZ3",
        "colab": {
          "base_uri": "https://localhost:8080/",
          "height": 341
        },
        "outputId": "d164e772-bb84-46eb-9c6f-532d4a40fb38"
      },
      "source": [
        "#Grafik meantemp setiap bulan \n",
        "data_by_month = df.resample('M').sum()\n",
        "time = data_by_month.index.values\n",
        "temp = data_by_month['meantemp'].values\n",
        "plt.figure(figsize=(15,5))\n",
        "plt.plot(time, temp)\n",
        "plt.title('Temperature average',\n",
        "          fontsize=20);"
      ],
      "execution_count": 199,
      "outputs": [
        {
          "output_type": "display_data",
          "data": {
            "image/png": "[encoded data removed]",
            "text/plain": [
              "<Figure size 1080x360 with 1 Axes>"
            ]
          },
          "metadata": {
            "needs_background": "light"
          }
        }
      ]
    },
    {
      "cell_type": "code",
      "metadata": {
        "id": "Aov6yHxreux0",
        "colab": {
          "base_uri": "https://localhost:8080/"
        },
        "outputId": "40e8b0b1-036a-4ab2-a480-62fa9058875d"
      },
      "source": [
        "train_size = int(len(df) * 0.8) # train dataset 80%\n",
        "train, val = df.iloc[0:train_size], df.iloc[train_size:len(df)]#validation 20%\n",
        "\n",
        "print(train.shape, val.shape)"
      ],
      "execution_count": 200,
      "outputs": [
        {
          "output_type": "stream",
          "text": [
            "(1169, 8) (293, 8)\n"
          ],
          "name": "stdout"
        }
      ]
    },
    {
      "cell_type": "code",
      "metadata": {
        "id": "ju1Hf5LWhZxm",
        "colab": {
          "base_uri": "https://localhost:8080/"
        },
        "outputId": "c9370124-8deb-4b9b-ada9-af5af0322b6d"
      },
      "source": [
        "#normalization \n",
        "transformer = RobustScaler()\n",
        "temp_transformer = transformer.fit(train[['meantemp']])\n",
        "train['meantemp'] = temp_transformer.transform(train[['meantemp']])\n",
        "val['meantemp'] = temp_transformer.transform(val[['meantemp']])\n",
        "\n",
        "scaler = preprocessing.MinMaxScaler()\n",
        "temp_scaler = scaler.fit(train[['meantemp']])\n",
        "train['meantemp'] = temp_scaler.transform(train[['meantemp']])\n",
        "val['meantemp'] = temp_scaler.transform(val[['meantemp']])\n"
      ],
      "execution_count": 201,
      "outputs": [
        {
          "output_type": "stream",
          "text": [
            "/usr/local/lib/python3.7/dist-packages/ipykernel_launcher.py:4: SettingWithCopyWarning: \n",
            "A value is trying to be set on a copy of a slice from a DataFrame.\n",
            "Try using .loc[row_indexer,col_indexer] = value instead\n",
            "\n",
            "See the caveats in the documentation: https://pandas.pydata.org/pandas-docs/stable/user_guide/indexing.html#returning-a-view-versus-a-copy\n",
            "  after removing the cwd from sys.path.\n",
            "/usr/local/lib/python3.7/dist-packages/ipykernel_launcher.py:5: SettingWithCopyWarning: \n",
            "A value is trying to be set on a copy of a slice from a DataFrame.\n",
            "Try using .loc[row_indexer,col_indexer] = value instead\n",
            "\n",
            "See the caveats in the documentation: https://pandas.pydata.org/pandas-docs/stable/user_guide/indexing.html#returning-a-view-versus-a-copy\n",
            "  \"\"\"\n",
            "/usr/local/lib/python3.7/dist-packages/ipykernel_launcher.py:9: SettingWithCopyWarning: \n",
            "A value is trying to be set on a copy of a slice from a DataFrame.\n",
            "Try using .loc[row_indexer,col_indexer] = value instead\n",
            "\n",
            "See the caveats in the documentation: https://pandas.pydata.org/pandas-docs/stable/user_guide/indexing.html#returning-a-view-versus-a-copy\n",
            "  if __name__ == '__main__':\n",
            "/usr/local/lib/python3.7/dist-packages/ipykernel_launcher.py:10: SettingWithCopyWarning: \n",
            "A value is trying to be set on a copy of a slice from a DataFrame.\n",
            "Try using .loc[row_indexer,col_indexer] = value instead\n",
            "\n",
            "See the caveats in the documentation: https://pandas.pydata.org/pandas-docs/stable/user_guide/indexing.html#returning-a-view-versus-a-copy\n",
            "  # Remove the CWD from sys.path while we load stuff.\n"
          ],
          "name": "stderr"
        }
      ]
    },
    {
      "cell_type": "code",
      "metadata": {
        "id": "cs-1rzUOhpt7",
        "colab": {
          "base_uri": "https://localhost:8080/"
        },
        "outputId": "f981a586-daa5-4209-aea2-8944b09c747b"
      },
      "source": [
        "scale_col = ['humidity', 'wind_speed', 'meanpressure']\n",
        "scale_transformer = transformer.fit(train[scale_col].to_numpy())\n",
        "train.loc[:, scale_col] = scale_transformer.transform(\n",
        "    train[scale_col].to_numpy()\n",
        ")\n",
        "\n",
        "val.loc[:, scale_col] = scale_transformer.transform(\n",
        "    val[scale_col].to_numpy()\n",
        ")"
      ],
      "execution_count": 202,
      "outputs": [
        {
          "output_type": "stream",
          "text": [
            "/usr/local/lib/python3.7/dist-packages/pandas/core/indexing.py:1734: SettingWithCopyWarning: \n",
            "A value is trying to be set on a copy of a slice from a DataFrame.\n",
            "Try using .loc[row_indexer,col_indexer] = value instead\n",
            "\n",
            "See the caveats in the documentation: https://pandas.pydata.org/pandas-docs/stable/user_guide/indexing.html#returning-a-view-versus-a-copy\n",
            "  isetter(loc, value[:, i].tolist())\n",
            "/usr/local/lib/python3.7/dist-packages/pandas/core/indexing.py:1734: SettingWithCopyWarning: \n",
            "A value is trying to be set on a copy of a slice from a DataFrame.\n",
            "Try using .loc[row_indexer,col_indexer] = value instead\n",
            "\n",
            "See the caveats in the documentation: https://pandas.pydata.org/pandas-docs/stable/user_guide/indexing.html#returning-a-view-versus-a-copy\n",
            "  isetter(loc, value[:, i].tolist())\n"
          ],
          "name": "stderr"
        }
      ]
    },
    {
      "cell_type": "code",
      "metadata": {
        "id": "DuVWBW22jpyP",
        "colab": {
          "base_uri": "https://localhost:8080/"
        },
        "outputId": "a33b6787-6b01-4f6c-b61a-f729c22ea857"
      },
      "source": [
        "steps = 20\n",
        "def createDataset(X, y, steps):\n",
        "    Xs, ys = [], []\n",
        "    for i in range(len(X) - steps):\n",
        "        data = X.iloc[i:(i + steps)].values\n",
        "        Xs.append(data)        \n",
        "        ys.append(y.iloc[i + steps])\n",
        "        \n",
        "    return np.array(Xs), np.array(ys)\n",
        "\n",
        "x_train, y_train = createDataset(train, train.meantemp, steps)\n",
        "x_val, y_val = createDataset(val, val.meantemp, steps)\n",
        "print(x_train.shape, y_train.shape)"
      ],
      "execution_count": 203,
      "outputs": [
        {
          "output_type": "stream",
          "text": [
            "(1149, 20, 8) (1149,)\n"
          ],
          "name": "stdout"
        }
      ]
    },
    {
      "cell_type": "code",
      "metadata": {
        "id": "YQMckXOTG7uS"
      },
      "source": [
        "model = tf.keras.models.Sequential([\n",
        "  tf.keras.layers.Bidirectional(tf.keras.layers.LSTM(128, return_sequences=True)),\n",
        "  tf.keras.layers.Bidirectional(tf.keras.layers.LSTM(128)),\n",
        "  tf.keras.layers.Dense(30, activation=\"relu\"),\n",
        "  tf.keras.layers.Dense(10, activation=\"relu\"),\n",
        "  tf.keras.layers.Dense(1),\n",
        "])"
      ],
      "execution_count": 204,
      "outputs": []
    },
    {
      "cell_type": "code",
      "metadata": {
        "id": "ymQCS8UMHHVF",
        "colab": {
          "base_uri": "https://localhost:8080/"
        },
        "outputId": "41e5a8e4-fcb3-4f22-96aa-3a3882331b9e"
      },
      "source": [
        "optimizer = tf.keras.optimizers.SGD(lr=1.0000e-04, momentum=0.9)\n",
        "model.compile(loss=tf.keras.losses.Huber(),\n",
        "              optimizer=optimizer,\n",
        "              metrics=[\"mae\"])"
      ],
      "execution_count": 205,
      "outputs": [
        {
          "output_type": "stream",
          "text": [
            "/usr/local/lib/python3.7/dist-packages/keras/optimizer_v2/optimizer_v2.py:356: UserWarning: The `lr` argument is deprecated, use `learning_rate` instead.\n",
            "  \"The `lr` argument is deprecated, use `learning_rate` instead.\")\n"
          ],
          "name": "stderr"
        }
      ]
    },
    {
      "cell_type": "code",
      "metadata": {
        "id": "vUPD_IfqhZ9I"
      },
      "source": [
        "class my_allback(tf.keras.callbacks.Callback):\n",
        "    def on_epoch_end(self, epoch, logs={}):\n",
        "        if(logs.get('mae') < 0.1):\n",
        "            print(\"MAE < 10%\")\n",
        "            self.model.stop_training = True\n",
        "\n",
        "    def on_train_end(self, epoch, logs={}):\n",
        "        print('Done')\n",
        "\n",
        "callbacks = my_allback()"
      ],
      "execution_count": 206,
      "outputs": []
    },
    {
      "cell_type": "code",
      "metadata": {
        "id": "YaO8ceTPkqyh",
        "colab": {
          "base_uri": "https://localhost:8080/"
        },
        "outputId": "324dacde-286f-45d3-8bc7-7d572e03e94b"
      },
      "source": [
        "history = model.fit(x_train,\n",
        "                    y_train,\n",
        "                    epochs=100,\n",
        "                    steps_per_epoch = 50,\n",
        "                    batch_size=32,\n",
        "                    validation_split=0.2,\n",
        "                    shuffle=False,\n",
        "                    callbacks = callbacks)"
      ],
      "execution_count": 208,
      "outputs": [
        {
          "output_type": "stream",
          "text": [
            "Epoch 1/100\n",
            "50/50 [==============================] - 2s 31ms/step - loss: 0.0180 - mae: 0.1581 - val_loss: 0.0152 - val_mae: 0.1476\n",
            "Epoch 2/100\n",
            "50/50 [==============================] - 2s 31ms/step - loss: 0.0183 - mae: 0.1615 - val_loss: 0.0142 - val_mae: 0.1424\n",
            "Epoch 3/100\n",
            "50/50 [==============================] - 2s 31ms/step - loss: 0.0163 - mae: 0.1501 - val_loss: 0.0131 - val_mae: 0.1370\n",
            "Epoch 4/100\n",
            "50/50 [==============================] - 2s 31ms/step - loss: 0.0152 - mae: 0.1455 - val_loss: 0.0123 - val_mae: 0.1321\n",
            "Epoch 5/100\n",
            "50/50 [==============================] - 2s 31ms/step - loss: 0.0141 - mae: 0.1400 - val_loss: 0.0114 - val_mae: 0.1266\n",
            "Epoch 6/100\n",
            "50/50 [==============================] - 2s 31ms/step - loss: 0.0129 - mae: 0.1328 - val_loss: 0.0107 - val_mae: 0.1214\n",
            "Epoch 7/100\n",
            "50/50 [==============================] - 2s 31ms/step - loss: 0.0129 - mae: 0.1336 - val_loss: 0.0098 - val_mae: 0.1158\n",
            "Epoch 8/100\n",
            "50/50 [==============================] - 2s 31ms/step - loss: 0.0114 - mae: 0.1242 - val_loss: 0.0094 - val_mae: 0.1129\n",
            "Epoch 9/100\n",
            "50/50 [==============================] - 2s 31ms/step - loss: 0.0103 - mae: 0.1181 - val_loss: 0.0088 - val_mae: 0.1093\n",
            "Epoch 10/100\n",
            "50/50 [==============================] - 2s 31ms/step - loss: 0.0100 - mae: 0.1153 - val_loss: 0.0083 - val_mae: 0.1063\n",
            "Epoch 11/100\n",
            "50/50 [==============================] - 2s 31ms/step - loss: 0.0097 - mae: 0.1137 - val_loss: 0.0078 - val_mae: 0.1032\n",
            "Epoch 12/100\n",
            "50/50 [==============================] - 2s 31ms/step - loss: 0.0085 - mae: 0.1055 - val_loss: 0.0074 - val_mae: 0.1006\n",
            "Epoch 13/100\n",
            "50/50 [==============================] - 2s 31ms/step - loss: 0.0084 - mae: 0.1052 - val_loss: 0.0070 - val_mae: 0.0979\n",
            "Epoch 14/100\n",
            "50/50 [==============================] - 2s 31ms/step - loss: 0.0081 - mae: 0.1022 - val_loss: 0.0066 - val_mae: 0.0955\n",
            "Epoch 15/100\n",
            "50/50 [==============================] - 2s 31ms/step - loss: 0.0075 - mae: 0.0985 - val_loss: 0.0063 - val_mae: 0.0930\n",
            "MAE < 10%\n",
            "Done\n"
          ],
          "name": "stdout"
        }
      ]
    },
    {
      "cell_type": "code",
      "metadata": {
        "id": "pncbTD9KHacW",
        "colab": {
          "base_uri": "https://localhost:8080/",
          "height": 294
        },
        "outputId": "7bfb622d-19a9-41a9-b889-4eed6bb144ce"
      },
      "source": [
        "#MAE Plot\n",
        "accry = history.history['mae']\n",
        "validation_accry = history.history['val_mae']\n",
        "plt.plot(accry, 'g', label='Training MAE')\n",
        "plt.plot(validation_accry , 'b', label='Validation MAE')\n",
        "plt.title('Training and Validation MAE')\n",
        "plt.ylabel('Accuracy')\n",
        "plt.xlabel('Epoch')\n",
        "plt.legend()\n",
        "plt.show()"
      ],
      "execution_count": 209,
      "outputs": [
        {
          "output_type": "display_data",
          "data": {
            "image/png": "[encoded data removed]",
            "text/plain": [
              "<Figure size 432x288 with 1 Axes>"
            ]
          },
          "metadata": {
            "needs_background": "light"
          }
        }
      ]
    },
    {
      "cell_type": "code",
      "metadata": {
        "id": "K_UD_R7QqGtF",
        "colab": {
          "base_uri": "https://localhost:8080/",
          "height": 294
        },
        "outputId": "4bdc7491-cc1c-4934-dc7b-84180ad2d8fc"
      },
      "source": [
        "#Loss Plot\n",
        "loss = history.history['loss']\n",
        "validation_loss = history.history['val_loss']\n",
        "plt.plot(loss, 'g', label='Training loss')\n",
        "plt.plot(validation_loss , 'b', label='validation loss')\n",
        "plt.title('Training and Validation  Loss')\n",
        "plt.ylabel('loss')\n",
        "plt.xlabel('Epoch')\n",
        "plt.legend()\n",
        "plt.show()"
      ],
      "execution_count": 210,
      "outputs": [
        {
          "output_type": "display_data",
          "data": {
            "image/png": "[encoded data removed]",
            "text/plain": [
              "<Figure size 432x288 with 1 Axes>"
            ]
          },
          "metadata": {
            "needs_background": "light"
          }
        }
      ]
    }
  ]
}